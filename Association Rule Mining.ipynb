{
 "cells": [
  {
   "cell_type": "code",
   "execution_count": 1,
   "metadata": {},
   "outputs": [],
   "source": [
    "import pandas as pd\n",
    "from mlxtend.preprocessing import TransactionEncoder\n",
    "from mlxtend.frequent_patterns import fpgrowth, association_rules"
   ]
  },
  {
   "cell_type": "code",
   "execution_count": 2,
   "metadata": {},
   "outputs": [],
   "source": [
    "data_movies = pd.read_csv('ml-32m/movies.csv')\n",
    "data_ratings = pd.read_csv('ml-32m/ratings.csv', on_bad_lines='skip')"
   ]
  },
  {
   "cell_type": "code",
   "execution_count": 3,
   "metadata": {},
   "outputs": [
    {
     "data": {
      "text/html": [
       "<div>\n",
       "<style scoped>\n",
       "    .dataframe tbody tr th:only-of-type {\n",
       "        vertical-align: middle;\n",
       "    }\n",
       "\n",
       "    .dataframe tbody tr th {\n",
       "        vertical-align: top;\n",
       "    }\n",
       "\n",
       "    .dataframe thead th {\n",
       "        text-align: right;\n",
       "    }\n",
       "</style>\n",
       "<table border=\"1\" class=\"dataframe\">\n",
       "  <thead>\n",
       "    <tr style=\"text-align: right;\">\n",
       "      <th></th>\n",
       "      <th>movieId</th>\n",
       "      <th>title</th>\n",
       "      <th>genres</th>\n",
       "    </tr>\n",
       "  </thead>\n",
       "  <tbody>\n",
       "    <tr>\n",
       "      <th>0</th>\n",
       "      <td>1</td>\n",
       "      <td>Toy Story (1995)</td>\n",
       "      <td>Adventure|Animation|Children|Comedy|Fantasy</td>\n",
       "    </tr>\n",
       "    <tr>\n",
       "      <th>1</th>\n",
       "      <td>2</td>\n",
       "      <td>Jumanji (1995)</td>\n",
       "      <td>Adventure|Children|Fantasy</td>\n",
       "    </tr>\n",
       "    <tr>\n",
       "      <th>2</th>\n",
       "      <td>3</td>\n",
       "      <td>Grumpier Old Men (1995)</td>\n",
       "      <td>Comedy|Romance</td>\n",
       "    </tr>\n",
       "    <tr>\n",
       "      <th>3</th>\n",
       "      <td>4</td>\n",
       "      <td>Waiting to Exhale (1995)</td>\n",
       "      <td>Comedy|Drama|Romance</td>\n",
       "    </tr>\n",
       "    <tr>\n",
       "      <th>4</th>\n",
       "      <td>5</td>\n",
       "      <td>Father of the Bride Part II (1995)</td>\n",
       "      <td>Comedy</td>\n",
       "    </tr>\n",
       "  </tbody>\n",
       "</table>\n",
       "</div>"
      ],
      "text/plain": [
       "   movieId                               title  \\\n",
       "0        1                    Toy Story (1995)   \n",
       "1        2                      Jumanji (1995)   \n",
       "2        3             Grumpier Old Men (1995)   \n",
       "3        4            Waiting to Exhale (1995)   \n",
       "4        5  Father of the Bride Part II (1995)   \n",
       "\n",
       "                                        genres  \n",
       "0  Adventure|Animation|Children|Comedy|Fantasy  \n",
       "1                   Adventure|Children|Fantasy  \n",
       "2                               Comedy|Romance  \n",
       "3                         Comedy|Drama|Romance  \n",
       "4                                       Comedy  "
      ]
     },
     "execution_count": 3,
     "metadata": {},
     "output_type": "execute_result"
    }
   ],
   "source": [
    "data_movies.head()"
   ]
  },
  {
   "cell_type": "code",
   "execution_count": 4,
   "metadata": {},
   "outputs": [
    {
     "data": {
      "text/html": [
       "<div>\n",
       "<style scoped>\n",
       "    .dataframe tbody tr th:only-of-type {\n",
       "        vertical-align: middle;\n",
       "    }\n",
       "\n",
       "    .dataframe tbody tr th {\n",
       "        vertical-align: top;\n",
       "    }\n",
       "\n",
       "    .dataframe thead th {\n",
       "        text-align: right;\n",
       "    }\n",
       "</style>\n",
       "<table border=\"1\" class=\"dataframe\">\n",
       "  <thead>\n",
       "    <tr style=\"text-align: right;\">\n",
       "      <th></th>\n",
       "      <th>userId</th>\n",
       "      <th>movieId</th>\n",
       "      <th>rating</th>\n",
       "      <th>timestamp</th>\n",
       "    </tr>\n",
       "  </thead>\n",
       "  <tbody>\n",
       "    <tr>\n",
       "      <th>0</th>\n",
       "      <td>1</td>\n",
       "      <td>17</td>\n",
       "      <td>4.0</td>\n",
       "      <td>944249077</td>\n",
       "    </tr>\n",
       "    <tr>\n",
       "      <th>1</th>\n",
       "      <td>1</td>\n",
       "      <td>25</td>\n",
       "      <td>1.0</td>\n",
       "      <td>944250228</td>\n",
       "    </tr>\n",
       "    <tr>\n",
       "      <th>2</th>\n",
       "      <td>1</td>\n",
       "      <td>29</td>\n",
       "      <td>2.0</td>\n",
       "      <td>943230976</td>\n",
       "    </tr>\n",
       "    <tr>\n",
       "      <th>3</th>\n",
       "      <td>1</td>\n",
       "      <td>30</td>\n",
       "      <td>5.0</td>\n",
       "      <td>944249077</td>\n",
       "    </tr>\n",
       "    <tr>\n",
       "      <th>4</th>\n",
       "      <td>1</td>\n",
       "      <td>32</td>\n",
       "      <td>5.0</td>\n",
       "      <td>943228858</td>\n",
       "    </tr>\n",
       "  </tbody>\n",
       "</table>\n",
       "</div>"
      ],
      "text/plain": [
       "   userId  movieId  rating  timestamp\n",
       "0       1       17     4.0  944249077\n",
       "1       1       25     1.0  944250228\n",
       "2       1       29     2.0  943230976\n",
       "3       1       30     5.0  944249077\n",
       "4       1       32     5.0  943228858"
      ]
     },
     "execution_count": 4,
     "metadata": {},
     "output_type": "execute_result"
    }
   ],
   "source": [
    "data_ratings.head()"
   ]
  },
  {
   "cell_type": "code",
   "execution_count": 5,
   "metadata": {},
   "outputs": [
    {
     "name": "stdout",
     "output_type": "stream",
     "text": [
      "<class 'pandas.core.frame.DataFrame'>\n",
      "RangeIndex: 87585 entries, 0 to 87584\n",
      "Data columns (total 3 columns):\n",
      " #   Column   Non-Null Count  Dtype \n",
      "---  ------   --------------  ----- \n",
      " 0   movieId  87585 non-null  int64 \n",
      " 1   title    87585 non-null  object\n",
      " 2   genres   87585 non-null  object\n",
      "dtypes: int64(1), object(2)\n",
      "memory usage: 2.0+ MB\n"
     ]
    }
   ],
   "source": [
    "data_movies.info()"
   ]
  },
  {
   "cell_type": "code",
   "execution_count": 6,
   "metadata": {},
   "outputs": [
    {
     "name": "stdout",
     "output_type": "stream",
     "text": [
      "Number of duplicated unique ids are:  0\n"
     ]
    },
    {
     "data": {
      "text/plain": [
       "(movieId\n",
       " 292757    1\n",
       " 292427    1\n",
       " 292467    1\n",
       " 292469    1\n",
       " 292471    1\n",
       "          ..\n",
       " 5         1\n",
       " 6         1\n",
       " 7         1\n",
       " 8         1\n",
       " 9         1\n",
       " Name: count, Length: 87585, dtype: int64,\n",
       " None)"
      ]
     },
     "execution_count": 6,
     "metadata": {},
     "output_type": "execute_result"
    }
   ],
   "source": [
    "data_movies.movieId.value_counts(),print('Number of duplicated unique ids are: ',data_movies.movieId.duplicated().sum())"
   ]
  },
  {
   "cell_type": "code",
   "execution_count": 7,
   "metadata": {},
   "outputs": [
    {
     "data": {
      "text/plain": [
       "movieId\n",
       "318       102929\n",
       "356       100296\n",
       "296        98409\n",
       "2571       93808\n",
       "593        90330\n",
       "           ...  \n",
       "206505         1\n",
       "229167         1\n",
       "138948         1\n",
       "121961         1\n",
       "137537         1\n",
       "Name: count, Length: 84432, dtype: int64"
      ]
     },
     "execution_count": 7,
     "metadata": {},
     "output_type": "execute_result"
    }
   ],
   "source": [
    "data_ratings.movieId.value_counts()"
   ]
  },
  {
   "cell_type": "code",
   "execution_count": 8,
   "metadata": {},
   "outputs": [],
   "source": [
    "# Filter for high ratings (>=4)\n",
    "high_ratings = data_ratings[data_ratings['rating'] >= 4]"
   ]
  },
  {
   "cell_type": "code",
   "execution_count": 9,
   "metadata": {},
   "outputs": [
    {
     "data": {
      "text/html": [
       "<div>\n",
       "<style scoped>\n",
       "    .dataframe tbody tr th:only-of-type {\n",
       "        vertical-align: middle;\n",
       "    }\n",
       "\n",
       "    .dataframe tbody tr th {\n",
       "        vertical-align: top;\n",
       "    }\n",
       "\n",
       "    .dataframe thead th {\n",
       "        text-align: right;\n",
       "    }\n",
       "</style>\n",
       "<table border=\"1\" class=\"dataframe\">\n",
       "  <thead>\n",
       "    <tr style=\"text-align: right;\">\n",
       "      <th></th>\n",
       "      <th>userId</th>\n",
       "      <th>movieId</th>\n",
       "      <th>rating</th>\n",
       "      <th>timestamp</th>\n",
       "    </tr>\n",
       "  </thead>\n",
       "  <tbody>\n",
       "    <tr>\n",
       "      <th>0</th>\n",
       "      <td>1</td>\n",
       "      <td>17</td>\n",
       "      <td>4.0</td>\n",
       "      <td>944249077</td>\n",
       "    </tr>\n",
       "    <tr>\n",
       "      <th>3</th>\n",
       "      <td>1</td>\n",
       "      <td>30</td>\n",
       "      <td>5.0</td>\n",
       "      <td>944249077</td>\n",
       "    </tr>\n",
       "    <tr>\n",
       "      <th>4</th>\n",
       "      <td>1</td>\n",
       "      <td>32</td>\n",
       "      <td>5.0</td>\n",
       "      <td>943228858</td>\n",
       "    </tr>\n",
       "    <tr>\n",
       "      <th>7</th>\n",
       "      <td>1</td>\n",
       "      <td>80</td>\n",
       "      <td>5.0</td>\n",
       "      <td>944248943</td>\n",
       "    </tr>\n",
       "    <tr>\n",
       "      <th>9</th>\n",
       "      <td>1</td>\n",
       "      <td>111</td>\n",
       "      <td>5.0</td>\n",
       "      <td>944249008</td>\n",
       "    </tr>\n",
       "    <tr>\n",
       "      <th>...</th>\n",
       "      <td>...</td>\n",
       "      <td>...</td>\n",
       "      <td>...</td>\n",
       "      <td>...</td>\n",
       "    </tr>\n",
       "    <tr>\n",
       "      <th>32000195</th>\n",
       "      <td>200948</td>\n",
       "      <td>72998</td>\n",
       "      <td>5.0</td>\n",
       "      <td>1350423889</td>\n",
       "    </tr>\n",
       "    <tr>\n",
       "      <th>32000196</th>\n",
       "      <td>200948</td>\n",
       "      <td>74458</td>\n",
       "      <td>4.5</td>\n",
       "      <td>1350423822</td>\n",
       "    </tr>\n",
       "    <tr>\n",
       "      <th>32000197</th>\n",
       "      <td>200948</td>\n",
       "      <td>76093</td>\n",
       "      <td>5.0</td>\n",
       "      <td>1287223498</td>\n",
       "    </tr>\n",
       "    <tr>\n",
       "      <th>32000199</th>\n",
       "      <td>200948</td>\n",
       "      <td>79702</td>\n",
       "      <td>4.5</td>\n",
       "      <td>1294412589</td>\n",
       "    </tr>\n",
       "    <tr>\n",
       "      <th>32000203</th>\n",
       "      <td>200948</td>\n",
       "      <td>87304</td>\n",
       "      <td>4.5</td>\n",
       "      <td>1350423523</td>\n",
       "    </tr>\n",
       "  </tbody>\n",
       "</table>\n",
       "<p>15938231 rows × 4 columns</p>\n",
       "</div>"
      ],
      "text/plain": [
       "          userId  movieId  rating   timestamp\n",
       "0              1       17     4.0   944249077\n",
       "3              1       30     5.0   944249077\n",
       "4              1       32     5.0   943228858\n",
       "7              1       80     5.0   944248943\n",
       "9              1      111     5.0   944249008\n",
       "...          ...      ...     ...         ...\n",
       "32000195  200948    72998     5.0  1350423889\n",
       "32000196  200948    74458     4.5  1350423822\n",
       "32000197  200948    76093     5.0  1287223498\n",
       "32000199  200948    79702     4.5  1294412589\n",
       "32000203  200948    87304     4.5  1350423523\n",
       "\n",
       "[15938231 rows x 4 columns]"
      ]
     },
     "execution_count": 9,
     "metadata": {},
     "output_type": "execute_result"
    }
   ],
   "source": [
    "high_ratings"
   ]
  },
  {
   "cell_type": "code",
   "execution_count": 10,
   "metadata": {},
   "outputs": [
    {
     "data": {
      "text/html": [
       "<div>\n",
       "<style scoped>\n",
       "    .dataframe tbody tr th:only-of-type {\n",
       "        vertical-align: middle;\n",
       "    }\n",
       "\n",
       "    .dataframe tbody tr th {\n",
       "        vertical-align: top;\n",
       "    }\n",
       "\n",
       "    .dataframe thead th {\n",
       "        text-align: right;\n",
       "    }\n",
       "</style>\n",
       "<table border=\"1\" class=\"dataframe\">\n",
       "  <thead>\n",
       "    <tr style=\"text-align: right;\">\n",
       "      <th></th>\n",
       "      <th>movieId</th>\n",
       "      <th>title</th>\n",
       "      <th>genres</th>\n",
       "      <th>userId</th>\n",
       "      <th>rating</th>\n",
       "      <th>timestamp</th>\n",
       "    </tr>\n",
       "  </thead>\n",
       "  <tbody>\n",
       "    <tr>\n",
       "      <th>0</th>\n",
       "      <td>1</td>\n",
       "      <td>Toy Story (1995)</td>\n",
       "      <td>Adventure|Animation|Children|Comedy|Fantasy</td>\n",
       "      <td>17</td>\n",
       "      <td>4.0</td>\n",
       "      <td>1027305751</td>\n",
       "    </tr>\n",
       "    <tr>\n",
       "      <th>1</th>\n",
       "      <td>1</td>\n",
       "      <td>Toy Story (1995)</td>\n",
       "      <td>Adventure|Animation|Children|Comedy|Fantasy</td>\n",
       "      <td>20</td>\n",
       "      <td>5.0</td>\n",
       "      <td>1553184230</td>\n",
       "    </tr>\n",
       "    <tr>\n",
       "      <th>2</th>\n",
       "      <td>1</td>\n",
       "      <td>Toy Story (1995)</td>\n",
       "      <td>Adventure|Animation|Children|Comedy|Fantasy</td>\n",
       "      <td>24</td>\n",
       "      <td>4.0</td>\n",
       "      <td>945353745</td>\n",
       "    </tr>\n",
       "    <tr>\n",
       "      <th>3</th>\n",
       "      <td>1</td>\n",
       "      <td>Toy Story (1995)</td>\n",
       "      <td>Adventure|Animation|Children|Comedy|Fantasy</td>\n",
       "      <td>28</td>\n",
       "      <td>4.0</td>\n",
       "      <td>961438127</td>\n",
       "    </tr>\n",
       "    <tr>\n",
       "      <th>4</th>\n",
       "      <td>1</td>\n",
       "      <td>Toy Story (1995)</td>\n",
       "      <td>Adventure|Animation|Children|Comedy|Fantasy</td>\n",
       "      <td>33</td>\n",
       "      <td>5.0</td>\n",
       "      <td>1226362069</td>\n",
       "    </tr>\n",
       "    <tr>\n",
       "      <th>...</th>\n",
       "      <td>...</td>\n",
       "      <td>...</td>\n",
       "      <td>...</td>\n",
       "      <td>...</td>\n",
       "      <td>...</td>\n",
       "      <td>...</td>\n",
       "    </tr>\n",
       "    <tr>\n",
       "      <th>15938226</th>\n",
       "      <td>292607</td>\n",
       "      <td>The Invention of the Other (2022)</td>\n",
       "      <td>Documentary</td>\n",
       "      <td>105979</td>\n",
       "      <td>4.5</td>\n",
       "      <td>1696931152</td>\n",
       "    </tr>\n",
       "    <tr>\n",
       "      <th>15938227</th>\n",
       "      <td>292609</td>\n",
       "      <td>The Wind Blows the Border (2022)</td>\n",
       "      <td>Documentary</td>\n",
       "      <td>105979</td>\n",
       "      <td>4.0</td>\n",
       "      <td>1696931227</td>\n",
       "    </tr>\n",
       "    <tr>\n",
       "      <th>15938228</th>\n",
       "      <td>292611</td>\n",
       "      <td>Kenya (2022)</td>\n",
       "      <td>Documentary</td>\n",
       "      <td>105979</td>\n",
       "      <td>4.0</td>\n",
       "      <td>1696931259</td>\n",
       "    </tr>\n",
       "    <tr>\n",
       "      <th>15938229</th>\n",
       "      <td>292731</td>\n",
       "      <td>The Monroy Affaire (2022)</td>\n",
       "      <td>Drama</td>\n",
       "      <td>50685</td>\n",
       "      <td>4.0</td>\n",
       "      <td>1697074779</td>\n",
       "    </tr>\n",
       "    <tr>\n",
       "      <th>15938230</th>\n",
       "      <td>292753</td>\n",
       "      <td>Orca (2023)</td>\n",
       "      <td>Drama</td>\n",
       "      <td>150812</td>\n",
       "      <td>4.0</td>\n",
       "      <td>1697140530</td>\n",
       "    </tr>\n",
       "  </tbody>\n",
       "</table>\n",
       "<p>15938231 rows × 6 columns</p>\n",
       "</div>"
      ],
      "text/plain": [
       "          movieId                              title  \\\n",
       "0               1                   Toy Story (1995)   \n",
       "1               1                   Toy Story (1995)   \n",
       "2               1                   Toy Story (1995)   \n",
       "3               1                   Toy Story (1995)   \n",
       "4               1                   Toy Story (1995)   \n",
       "...           ...                                ...   \n",
       "15938226   292607  The Invention of the Other (2022)   \n",
       "15938227   292609   The Wind Blows the Border (2022)   \n",
       "15938228   292611                       Kenya (2022)   \n",
       "15938229   292731          The Monroy Affaire (2022)   \n",
       "15938230   292753                        Orca (2023)   \n",
       "\n",
       "                                               genres  userId  rating  \\\n",
       "0         Adventure|Animation|Children|Comedy|Fantasy      17     4.0   \n",
       "1         Adventure|Animation|Children|Comedy|Fantasy      20     5.0   \n",
       "2         Adventure|Animation|Children|Comedy|Fantasy      24     4.0   \n",
       "3         Adventure|Animation|Children|Comedy|Fantasy      28     4.0   \n",
       "4         Adventure|Animation|Children|Comedy|Fantasy      33     5.0   \n",
       "...                                               ...     ...     ...   \n",
       "15938226                                  Documentary  105979     4.5   \n",
       "15938227                                  Documentary  105979     4.0   \n",
       "15938228                                  Documentary  105979     4.0   \n",
       "15938229                                        Drama   50685     4.0   \n",
       "15938230                                        Drama  150812     4.0   \n",
       "\n",
       "           timestamp  \n",
       "0         1027305751  \n",
       "1         1553184230  \n",
       "2          945353745  \n",
       "3          961438127  \n",
       "4         1226362069  \n",
       "...              ...  \n",
       "15938226  1696931152  \n",
       "15938227  1696931227  \n",
       "15938228  1696931259  \n",
       "15938229  1697074779  \n",
       "15938230  1697140530  \n",
       "\n",
       "[15938231 rows x 6 columns]"
      ]
     },
     "execution_count": 10,
     "metadata": {},
     "output_type": "execute_result"
    }
   ],
   "source": [
    "merge_df = data_movies.merge(high_ratings,on = 'movieId',how = 'inner')\n",
    "merge_df"
   ]
  },
  {
   "cell_type": "code",
   "execution_count": 11,
   "metadata": {},
   "outputs": [],
   "source": [
    "merge_df.drop(columns=['timestamp'], inplace=True)"
   ]
  },
  {
   "cell_type": "markdown",
   "metadata": {},
   "source": [
    "Movie-to-Movie Association Rules"
   ]
  },
  {
   "cell_type": "code",
   "execution_count": 12,
   "metadata": {},
   "outputs": [],
   "source": [
    "# Group movies by user and prepare for Transaction Encoding\n",
    "user_movies = merge_df.groupby(by=\"userId\")[\"title\"].apply(list).tolist()"
   ]
  },
  {
   "cell_type": "code",
   "execution_count": 13,
   "metadata": {},
   "outputs": [],
   "source": [
    "# Transaction encoding for movie titles\n",
    "te = TransactionEncoder()\n",
    "te_movies = te.fit(user_movies).transform(user_movies)\n",
    "df_movies = pd.DataFrame(te_movies, columns=te.columns_)"
   ]
  },
  {
   "cell_type": "code",
   "execution_count": 14,
   "metadata": {},
   "outputs": [],
   "source": [
    "# FP-Growth with a chosen min_support\n",
    "min_support = 0.08  \n",
    "movie_itemsets = fpgrowth(df_movies, min_support=min_support, use_colnames=True, max_len=2)"
   ]
  },
  {
   "cell_type": "code",
   "execution_count": 15,
   "metadata": {},
   "outputs": [
    {
     "data": {
      "text/plain": [
       "912"
      ]
     },
     "execution_count": 15,
     "metadata": {},
     "output_type": "execute_result"
    }
   ],
   "source": [
    "len(movie_itemsets)"
   ]
  },
  {
   "cell_type": "code",
   "execution_count": 16,
   "metadata": {},
   "outputs": [],
   "source": [
    "# Generate association rules and filter based on confidence and support\n",
    "min_confidence = 0.6  \n",
    "movie_rules = association_rules(movie_itemsets, metric=\"confidence\", min_threshold=min_confidence)"
   ]
  },
  {
   "cell_type": "code",
   "execution_count": 17,
   "metadata": {},
   "outputs": [],
   "source": [
    "# To make sure one item on the left and right sides for each rule\n",
    "movie_rules = movie_rules[(movie_rules['antecedents'].apply(len) == 1) & \n",
    "                          (movie_rules['consequents'].apply(len) == 1)]"
   ]
  },
  {
   "cell_type": "code",
   "execution_count": 18,
   "metadata": {},
   "outputs": [
    {
     "data": {
      "text/plain": [
       "255"
      ]
     },
     "execution_count": 18,
     "metadata": {},
     "output_type": "execute_result"
    }
   ],
   "source": [
    "len(movie_rules)"
   ]
  },
  {
   "cell_type": "code",
   "execution_count": 21,
   "metadata": {},
   "outputs": [
    {
     "name": "stdout",
     "output_type": "stream",
     "text": [
      "Top 20 movie rules sorted by lift:\n",
      "                                            antecedents  \\\n",
      "156                         (Kill Bill: Vol. 2 (2004))   \n",
      "155                         (Kill Bill: Vol. 1 (2003))   \n",
      "27                                      (Alien (1979))   \n",
      "26                                     (Aliens (1986))   \n",
      "237                    (Dark Knight Rises, The (2012))   \n",
      "232                              (Interstellar (2014))   \n",
      "126    (Lord of the Rings: The Two Towers, The (2002))   \n",
      "127  (Lord of the Rings: The Return of the King, Th...   \n",
      "8                     (Godfather: Part II, The (1974))   \n",
      "200        (Indiana Jones and the Last Crusade (1989))   \n",
      "229                             (Batman Begins (2005))   \n",
      "129    (Lord of the Rings: The Two Towers, The (2002))   \n",
      "130  (Lord of the Rings: The Fellowship of the Ring...   \n",
      "125  (Lord of the Rings: The Fellowship of the Ring...   \n",
      "124  (Lord of the Rings: The Return of the King, Th...   \n",
      "221                                  (Iron Man (2008))   \n",
      "188                             (Prestige, The (2006))   \n",
      "168                           (Terminator, The (1984))   \n",
      "152                      (Inglourious Basterds (2009))   \n",
      "190                             (Prestige, The (2006))   \n",
      "\n",
      "                                           consequents   support  confidence  \\\n",
      "156                         (Kill Bill: Vol. 1 (2003))  0.101786    0.865317   \n",
      "155                         (Kill Bill: Vol. 2 (2004))  0.101786    0.695097   \n",
      "27                                     (Aliens (1986))  0.105094    0.630492   \n",
      "26                                      (Alien (1979))  0.105094    0.759879   \n",
      "237                          (Dark Knight, The (2008))  0.090452    0.876847   \n",
      "232                                 (Inception (2010))  0.103664    0.756875   \n",
      "126  (Lord of the Rings: The Return of the King, Th...  0.212379    0.854977   \n",
      "127    (Lord of the Rings: The Two Towers, The (2002))  0.212379    0.849355   \n",
      "8                              (Godfather, The (1972))  0.160667    0.922351   \n",
      "200  (Raiders of the Lost Ark (Indiana Jones and th...  0.136798    0.843983   \n",
      "229                          (Dark Knight, The (2008))  0.104491    0.748617   \n",
      "129  (Lord of the Rings: The Fellowship of the Ring...  0.219857    0.885081   \n",
      "130    (Lord of the Rings: The Two Towers, The (2002))  0.219857    0.808349   \n",
      "125  (Lord of the Rings: The Return of the King, Th...  0.217954    0.801352   \n",
      "124  (Lord of the Rings: The Fellowship of the Ring...  0.217954    0.871650   \n",
      "221                          (Dark Knight, The (2008))  0.081718    0.733193   \n",
      "188                                 (Inception (2010))  0.084717    0.687571   \n",
      "168                (Terminator 2: Judgment Day (1991))  0.112865    0.728503   \n",
      "152                                 (Inception (2010))  0.083422    0.667158   \n",
      "190                          (Dark Knight, The (2008))  0.085500    0.693919   \n",
      "\n",
      "         lift  \n",
      "156  5.909285  \n",
      "155  5.909285  \n",
      "27   4.558774  \n",
      "26   4.558774  \n",
      "237  3.812956  \n",
      "232  3.439072  \n",
      "126  3.419260  \n",
      "127  3.419260  \n",
      "8    3.381796  \n",
      "200  3.333978  \n",
      "229  3.255348  \n",
      "129  3.254179  \n",
      "130  3.254179  \n",
      "125  3.204800  \n",
      "124  3.204800  \n",
      "221  3.188279  \n",
      "188  3.124170  \n",
      "168  3.094740  \n",
      "152  3.031419  \n",
      "190  3.017495  \n"
     ]
    }
   ],
   "source": [
    "sorted_by_lift = movie_rules.sort_values(by='lift', ascending=False).head(20)\n",
    "print(\"Top 20 movie rules sorted by lift:\\n\", sorted_by_lift[['antecedents', 'consequents', 'support', 'confidence', 'lift']])"
   ]
  },
  {
   "cell_type": "code",
   "execution_count": 22,
   "metadata": {},
   "outputs": [
    {
     "name": "stdout",
     "output_type": "stream",
     "text": [
      "Top 20 movie rules sorted by leverage:\n",
      "                                            antecedents  \\\n",
      "130  (Lord of the Rings: The Fellowship of the Ring...   \n",
      "129    (Lord of the Rings: The Two Towers, The (2002))   \n",
      "126    (Lord of the Rings: The Two Towers, The (2002))   \n",
      "127  (Lord of the Rings: The Return of the King, Th...   \n",
      "124  (Lord of the Rings: The Return of the King, Th...   \n",
      "125  (Lord of the Rings: The Fellowship of the Ring...   \n",
      "1          (Star Wars: Episode IV - A New Hope (1977))   \n",
      "0    (Star Wars: Episode V - The Empire Strikes Bac...   \n",
      "56   (Star Wars: Episode VI - Return of the Jedi (1...   \n",
      "55         (Star Wars: Episode IV - A New Hope (1977))   \n",
      "58   (Star Wars: Episode VI - Return of the Jedi (1...   \n",
      "57   (Star Wars: Episode V - The Empire Strikes Bac...   \n",
      "8                     (Godfather: Part II, The (1974))   \n",
      "49   (Star Wars: Episode V - The Empire Strikes Bac...   \n",
      "50   (Raiders of the Lost Ark (Indiana Jones and th...   \n",
      "200        (Indiana Jones and the Last Crusade (1989))   \n",
      "48   (Raiders of the Lost Ark (Indiana Jones and th...   \n",
      "88                                  (Inception (2010))   \n",
      "89                           (Dark Knight, The (2008))   \n",
      "79                                 (Fight Club (1999))   \n",
      "\n",
      "                                           consequents   support  confidence  \\\n",
      "130    (Lord of the Rings: The Two Towers, The (2002))  0.219857    0.808349   \n",
      "129  (Lord of the Rings: The Fellowship of the Ring...  0.219857    0.885081   \n",
      "126  (Lord of the Rings: The Return of the King, Th...  0.212379    0.854977   \n",
      "127    (Lord of the Rings: The Two Towers, The (2002))  0.212379    0.849355   \n",
      "124  (Lord of the Rings: The Fellowship of the Ring...  0.217954    0.871650   \n",
      "125  (Lord of the Rings: The Return of the King, Th...  0.217954    0.801352   \n",
      "1    (Star Wars: Episode V - The Empire Strikes Bac...  0.229686    0.721966   \n",
      "0          (Star Wars: Episode IV - A New Hope (1977))  0.229686    0.833632   \n",
      "56         (Star Wars: Episode IV - A New Hope (1977))  0.200044    0.839813   \n",
      "55   (Star Wars: Episode VI - Return of the Jedi (1...  0.200044    0.628792   \n",
      "58   (Star Wars: Episode V - The Empire Strikes Bac...  0.189253    0.794512   \n",
      "57   (Star Wars: Episode VI - Return of the Jedi (1...  0.189253    0.686882   \n",
      "8                              (Godfather, The (1972))  0.160667    0.922351   \n",
      "49   (Raiders of the Lost Ark (Indiana Jones and th...  0.170043    0.617159   \n",
      "50   (Star Wars: Episode V - The Empire Strikes Bac...  0.170043    0.671718   \n",
      "200  (Raiders of the Lost Ark (Indiana Jones and th...  0.136798    0.843983   \n",
      "48         (Star Wars: Episode IV - A New Hope (1977))  0.174521    0.689410   \n",
      "88                           (Dark Knight, The (2008))  0.141068    0.640982   \n",
      "89                                  (Inception (2010))  0.141068    0.613432   \n",
      "79                                (Matrix, The (1999))  0.199805    0.650691   \n",
      "\n",
      "     leverage  \n",
      "130  0.152296  \n",
      "129  0.152296  \n",
      "126  0.150266  \n",
      "127  0.150266  \n",
      "124  0.149945  \n",
      "125  0.149945  \n",
      "1    0.142031  \n",
      "0    0.142031  \n",
      "56   0.124263  \n",
      "55   0.124263  \n",
      "58   0.123623  \n",
      "57   0.123623  \n",
      "8    0.113157  \n",
      "49   0.100295  \n",
      "50   0.100295  \n",
      "200  0.095767  \n",
      "48   0.093986  \n",
      "88   0.090457  \n",
      "89   0.090457  \n",
      "79   0.089737  \n"
     ]
    }
   ],
   "source": [
    "# Sort by leverage and display the top 5 rules\n",
    "sorted_by_leverage = movie_rules.sort_values(by='leverage', ascending=False).head(20)\n",
    "print(\"Top 20 movie rules sorted by leverage:\\n\", sorted_by_leverage[['antecedents', 'consequents', 'support', 'confidence', 'leverage']])"
   ]
  },
  {
   "cell_type": "code",
   "execution_count": 23,
   "metadata": {},
   "outputs": [],
   "source": [
    "# Sort by lift first, then leverage for a combined ranking\n",
    "final_sorted_rules = movie_rules.sort_values(by=['lift', 'leverage'], ascending=[False, False])"
   ]
  },
  {
   "cell_type": "code",
   "execution_count": 24,
   "metadata": {},
   "outputs": [],
   "source": [
    "final_sorted_rules.to_csv('final_movie_rules.csv', index=False)"
   ]
  },
  {
   "cell_type": "code",
   "execution_count": 25,
   "metadata": {},
   "outputs": [
    {
     "name": "stdout",
     "output_type": "stream",
     "text": [
      "Top 20 Movie-to-Movie Rules Ranked by Interestingness:\n",
      "                                            antecedents  \\\n",
      "155                         (Kill Bill: Vol. 1 (2003))   \n",
      "156                         (Kill Bill: Vol. 2 (2004))   \n",
      "26                                     (Aliens (1986))   \n",
      "27                                      (Alien (1979))   \n",
      "237                    (Dark Knight Rises, The (2012))   \n",
      "232                              (Interstellar (2014))   \n",
      "126    (Lord of the Rings: The Two Towers, The (2002))   \n",
      "127  (Lord of the Rings: The Return of the King, Th...   \n",
      "8                     (Godfather: Part II, The (1974))   \n",
      "200        (Indiana Jones and the Last Crusade (1989))   \n",
      "229                             (Batman Begins (2005))   \n",
      "129    (Lord of the Rings: The Two Towers, The (2002))   \n",
      "130  (Lord of the Rings: The Fellowship of the Ring...   \n",
      "124  (Lord of the Rings: The Return of the King, Th...   \n",
      "125  (Lord of the Rings: The Fellowship of the Ring...   \n",
      "221                                  (Iron Man (2008))   \n",
      "188                             (Prestige, The (2006))   \n",
      "168                           (Terminator, The (1984))   \n",
      "152                      (Inglourious Basterds (2009))   \n",
      "190                             (Prestige, The (2006))   \n",
      "\n",
      "                                           consequents   support  confidence  \\\n",
      "155                         (Kill Bill: Vol. 2 (2004))  0.101786    0.695097   \n",
      "156                         (Kill Bill: Vol. 1 (2003))  0.101786    0.865317   \n",
      "26                                      (Alien (1979))  0.105094    0.759879   \n",
      "27                                     (Aliens (1986))  0.105094    0.630492   \n",
      "237                          (Dark Knight, The (2008))  0.090452    0.876847   \n",
      "232                                 (Inception (2010))  0.103664    0.756875   \n",
      "126  (Lord of the Rings: The Return of the King, Th...  0.212379    0.854977   \n",
      "127    (Lord of the Rings: The Two Towers, The (2002))  0.212379    0.849355   \n",
      "8                              (Godfather, The (1972))  0.160667    0.922351   \n",
      "200  (Raiders of the Lost Ark (Indiana Jones and th...  0.136798    0.843983   \n",
      "229                          (Dark Knight, The (2008))  0.104491    0.748617   \n",
      "129  (Lord of the Rings: The Fellowship of the Ring...  0.219857    0.885081   \n",
      "130    (Lord of the Rings: The Two Towers, The (2002))  0.219857    0.808349   \n",
      "124  (Lord of the Rings: The Fellowship of the Ring...  0.217954    0.871650   \n",
      "125  (Lord of the Rings: The Return of the King, Th...  0.217954    0.801352   \n",
      "221                          (Dark Knight, The (2008))  0.081718    0.733193   \n",
      "188                                 (Inception (2010))  0.084717    0.687571   \n",
      "168                (Terminator 2: Judgment Day (1991))  0.112865    0.728503   \n",
      "152                                 (Inception (2010))  0.083422    0.667158   \n",
      "190                          (Dark Knight, The (2008))  0.085500    0.693919   \n",
      "\n",
      "         lift  leverage  conviction  \n",
      "155  5.909285  0.084561    2.893948  \n",
      "156  5.909285  0.084561    6.337597  \n",
      "26   4.558774  0.082040    3.470396  \n",
      "27   4.558774  0.082040    2.332012  \n",
      "237  3.812956  0.066729    6.252682  \n",
      "232  3.439072  0.073521    3.207889  \n",
      "126  3.419260  0.150266    5.171261  \n",
      "127  3.419260  0.150266    4.989206  \n",
      "8    3.381796  0.113157    9.365984  \n",
      "200  3.333978  0.095767    4.787016  \n",
      "229  3.255348  0.072393    3.063192  \n",
      "129  3.254179  0.152296    6.335021  \n",
      "130  3.254179  0.152296    3.921693  \n",
      "124  3.204800  0.149945    5.672138  \n",
      "125  3.204800  0.149945    3.775280  \n",
      "221  3.188279  0.056087    2.886115  \n",
      "188  3.124170  0.057601    2.496306  \n",
      "168  3.094740  0.076395    2.816240  \n",
      "152  3.031419  0.055903    2.343211  \n",
      "190  3.017495  0.057165    2.515786  \n"
     ]
    }
   ],
   "source": [
    "# Display top 20 ranked rules\n",
    "top_ranked_movie_rules = final_sorted_rules.head(20)\n",
    "print(\"Top 20 Movie-to-Movie Rules Ranked by Interestingness:\\n\", \n",
    "      top_ranked_movie_rules[['antecedents', 'consequents', 'support', 'confidence', 'lift', 'leverage']])"
   ]
  },
  {
   "cell_type": "markdown",
   "metadata": {},
   "source": [
    "Genre-to-Genre Association Rules"
   ]
  },
  {
   "cell_type": "code",
   "execution_count": 29,
   "metadata": {},
   "outputs": [],
   "source": [
    "# genres for genre-level association mining\n",
    "data_movies['genres'] = data_movies['genres'].str.split('|')\n",
    "exploded_movies = data_movies.explode('genres')"
   ]
  },
  {
   "cell_type": "code",
   "execution_count": 30,
   "metadata": {},
   "outputs": [],
   "source": [
    "# Merge with high ratings to get genres for highly rated movies\n",
    "merged_genres = high_ratings.merge(exploded_movies[['movieId', 'genres']], on='movieId')"
   ]
  },
  {
   "cell_type": "code",
   "execution_count": 31,
   "metadata": {},
   "outputs": [],
   "source": [
    "# Group genres by user and prepare for Transaction Encoding\n",
    "user_genres = merged_genres.groupby(by=\"userId\")[\"genres\"].apply(list).tolist()"
   ]
  },
  {
   "cell_type": "code",
   "execution_count": 32,
   "metadata": {},
   "outputs": [],
   "source": [
    "# Transaction encoding for genres\n",
    "te_genres = TransactionEncoder()\n",
    "te_genres_ary = te_genres.fit(user_genres).transform(user_genres)\n",
    "df_genres = pd.DataFrame(te_genres_ary, columns=te_genres.columns_)"
   ]
  },
  {
   "cell_type": "code",
   "execution_count": 33,
   "metadata": {},
   "outputs": [],
   "source": [
    "# FP-Growth for genre associations\n",
    "genre_itemsets = fpgrowth(df_genres, min_support=min_support, use_colnames=True, max_len=2)"
   ]
  },
  {
   "cell_type": "code",
   "execution_count": 34,
   "metadata": {},
   "outputs": [
    {
     "data": {
      "text/plain": [
       "190"
      ]
     },
     "execution_count": 34,
     "metadata": {},
     "output_type": "execute_result"
    }
   ],
   "source": [
    "len(genre_itemsets)"
   ]
  },
  {
   "cell_type": "code",
   "execution_count": 35,
   "metadata": {},
   "outputs": [],
   "source": [
    "# Generate genre-to-genre association rules and filter based on confidence\n",
    "genre_rules = association_rules(genre_itemsets, metric=\"confidence\", min_threshold=min_confidence)\n",
    "# Filter for single item antecedents and consequents\n",
    "genre_rules = genre_rules[(genre_rules['antecedents'].apply(len) == 1) & \n",
    "                          (genre_rules['consequents'].apply(len) == 1)]"
   ]
  },
  {
   "cell_type": "code",
   "execution_count": 36,
   "metadata": {},
   "outputs": [
    {
     "data": {
      "text/plain": [
       "291"
      ]
     },
     "execution_count": 36,
     "metadata": {},
     "output_type": "execute_result"
    }
   ],
   "source": [
    "len(genre_rules)"
   ]
  },
  {
   "cell_type": "code",
   "execution_count": 40,
   "metadata": {},
   "outputs": [],
   "source": [
    "# Rank by interestingness metrics such as lift, leverage\n",
    "ranked_genre_rules = genre_rules.sort_values(by=['lift', 'leverage'], ascending=[False, False])"
   ]
  },
  {
   "cell_type": "code",
   "execution_count": 41,
   "metadata": {},
   "outputs": [],
   "source": [
    "ranked_genre_rules.to_csv('final_genre_rules.csv', index=False)"
   ]
  },
  {
   "cell_type": "code",
   "execution_count": 42,
   "metadata": {},
   "outputs": [
    {
     "name": "stdout",
     "output_type": "stream",
     "text": [
      "Top 20 Genre-to-Genre Rules Ranked by Interestingness:\n",
      "        antecedents  consequents   support  confidence      lift  leverage  \\\n",
      "188    (Film-Noir)    (Western)  0.239859    0.725473  1.401484  0.068713   \n",
      "288  (Documentary)    (Western)  0.199710    0.696076  1.344695  0.051193   \n",
      "286  (Documentary)    (Musical)  0.225173    0.784824  1.302703  0.052322   \n",
      "190    (Film-Noir)    (Musical)  0.246465    0.745453  1.237353  0.047278   \n",
      "186    (Film-Noir)     (Horror)  0.297356    0.899375  1.233822  0.056352   \n",
      "208     (Children)  (Animation)  0.698594    0.901085  1.226487  0.129005   \n",
      "209    (Animation)   (Children)  0.698594    0.950872  1.226487  0.129005   \n",
      "264    (Animation)    (Musical)  0.536976    0.730889  1.213179  0.094357   \n",
      "265      (Musical)  (Animation)  0.536976    0.891308  1.213179  0.094357   \n",
      "261      (Musical)   (Children)  0.559036    0.927925  1.196889  0.091962   \n",
      "260     (Children)    (Musical)  0.559036    0.721075  1.196889  0.091962   \n",
      "290  (Documentary)     (Horror)  0.248498    0.866123  1.188204  0.039361   \n",
      "173      (Western)    (Musical)  0.369668    0.714133  1.185366  0.057808   \n",
      "174      (Musical)    (Western)  0.369668    0.613600  1.185366  0.057808   \n",
      "285  (Documentary)  (Animation)  0.244851    0.853412  1.161598  0.034063   \n",
      "170      (Western)     (Horror)  0.435350    0.841018  1.153765  0.058020   \n",
      "179    (Film-Noir)    (Mystery)  0.328034    0.992165  1.147421  0.042146   \n",
      "172      (Western)       (IMAX)  0.383598    0.741042  1.140143  0.047151   \n",
      "238    (Animation)       (IMAX)  0.543323    0.739528  1.137814  0.065808   \n",
      "239         (IMAX)  (Animation)  0.543323    0.835938  1.137814  0.065808   \n",
      "\n",
      "     conviction  \n",
      "188    1.757035  \n",
      "288    1.587086  \n",
      "286    1.847518  \n",
      "190    1.561763  \n",
      "186    2.693815  \n",
      "208    2.682231  \n",
      "209    4.574130  \n",
      "264    1.477244  \n",
      "265    2.440954  \n",
      "261    3.117838  \n",
      "260    1.425266  \n",
      "290    2.024733  \n",
      "173    1.390654  \n",
      "174    1.248327  \n",
      "285    1.809916  \n",
      "170    1.705013  \n",
      "179   17.268789  \n",
      "172    1.351743  \n",
      "238    1.343887  \n",
      "239    1.617146  \n"
     ]
    }
   ],
   "source": [
    "# Display top 20 ranked rules for genre-to-genre\n",
    "top_ranked_genre_rules = ranked_genre_rules.head(20)\n",
    "print(\"Top 20 Genre-to-Genre Rules Ranked by Interestingness:\\n\", \n",
    "      top_ranked_genre_rules[['antecedents', 'consequents', 'support', 'confidence', 'lift', 'leverage']])"
   ]
  },
  {
   "cell_type": "code",
   "execution_count": null,
   "metadata": {},
   "outputs": [],
   "source": []
  }
 ],
 "metadata": {
  "kernelspec": {
   "display_name": "base",
   "language": "python",
   "name": "python3"
  },
  "language_info": {
   "codemirror_mode": {
    "name": "ipython",
    "version": 3
   },
   "file_extension": ".py",
   "mimetype": "text/x-python",
   "name": "python",
   "nbconvert_exporter": "python",
   "pygments_lexer": "ipython3",
   "version": "3.12.4"
  }
 },
 "nbformat": 4,
 "nbformat_minor": 2
}
